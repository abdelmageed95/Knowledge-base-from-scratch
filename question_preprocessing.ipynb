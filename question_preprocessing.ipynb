{
  "nbformat": 4,
  "nbformat_minor": 0,
  "metadata": {
    "colab": {
      "name": "question preprocessing.ipynb",
      "provenance": [],
      "collapsed_sections": []
    },
    "kernelspec": {
      "name": "python3",
      "display_name": "Python 3"
    },
    "language_info": {
      "name": "python"
    }
  },
  "cells": [
    {
      "cell_type": "code",
      "source": [
        "import spacy\n",
        "from spacy import displacy\n",
        "import nltk\n",
        "nltk.download('punkt')\n",
        "nltk.download('averaged_perceptron_tagger')\n",
        "from nltk.tokenize import word_tokenize\n",
        "from nltk.tag import pos_tag\n",
        "nltk.download('wordnet')\n",
        "from nltk.corpus import stopwords\n",
        "import re\n",
        "from nltk.stem import PorterStemmer\n",
        "nltk.download('stopwords')\n",
        "sp = spacy.load(\"en_core_web_sm\")\n",
        "stop_words = set(stopwords.words('english'))"
      ],
      "metadata": {
        "colab": {
          "base_uri": "https://localhost:8080/"
        },
        "id": "HgYnKqXlxMMB",
        "outputId": "d6a01b48-b5b5-48bb-c605-9c7290eaf4a6"
      },
      "execution_count": null,
      "outputs": [
        {
          "output_type": "stream",
          "name": "stdout",
          "text": [
            "[nltk_data] Downloading package punkt to /root/nltk_data...\n",
            "[nltk_data]   Unzipping tokenizers/punkt.zip.\n",
            "[nltk_data] Downloading package averaged_perceptron_tagger to\n",
            "[nltk_data]     /root/nltk_data...\n",
            "[nltk_data]   Unzipping taggers/averaged_perceptron_tagger.zip.\n",
            "[nltk_data] Downloading package wordnet to /root/nltk_data...\n",
            "[nltk_data]   Unzipping corpora/wordnet.zip.\n",
            "[nltk_data] Downloading package stopwords to /root/nltk_data...\n",
            "[nltk_data]   Unzipping corpora/stopwords.zip.\n"
          ]
        }
      ]
    },
    {
      "cell_type": "code",
      "execution_count": null,
      "metadata": {
        "id": "RtFpuwArq6_F"
      },
      "outputs": [],
      "source": [
        "\n",
        "words_relations ={'winner': ['win' , \"winning\" ,'won', 'wins'],\n",
        "                  'occupant':[\"occupant\"],\n",
        "                  'position played on team / speciality':['role' , 'position on team ', 'position' , 'speciality' , \"play\"],\n",
        "                  'participating team':['participating' ,'participating team'],\n",
        "                  'father':['father'],\n",
        "                  'league':['league'],\n",
        "                  'country of citizenship': ['citizenship' , 'nationality', 'race',  'located' , \"locate\"],\n",
        "                  'work in': ['part , member','instance' , \"work\" , \"working\"],\n",
        "                  'country': ['country'],\n",
        "                  'sports season of league or competition': [\"season\"],\n",
        "                  'owned by':[\"owned\" ,'own', 'owner'],\n",
        "                  'field of work':['field', 'job', \"occupation\" , 'do'],\n",
        "                  'developer':['develop', \"developing\" , 'develops'],\n",
        "                  'head of government':['head of government'],\n",
        "                  'participant of' :['participant' , 'contribute'],\n",
        "                  'located in or next to body of water':[\"located in or next to body of water\"],\n",
        "                  'sibling' : [\"sibling\"],\n",
        "                  'taxon rank':['taxon rank'],\n",
        "                  'position held' :['position held'],\n",
        "                  'subsidiary':[\"subsidiary\"],\n",
        "                  'architect' :[\"architect\"],\n",
        "                  'language of work or name':['language'],\n",
        "                  'publisher':[\"publisher\"],\n",
        "                  'residence':[\"residence\"]}"
      ]
    },
    {
      "cell_type": "code",
      "source": [
        "question = \"For which club Mike Phelan work for ?\"\n",
        "question = re.sub('[!?#&()/;=@[\\]^_`{|}~]', \"\", question)\n",
        "question"
      ],
      "metadata": {
        "colab": {
          "base_uri": "https://localhost:8080/",
          "height": 35
        },
        "id": "D9CSxK40C4sI",
        "outputId": "dbedf8d2-a069-47dc-9e66-cf041e8f1fa9"
      },
      "execution_count": null,
      "outputs": [
        {
          "output_type": "execute_result",
          "data": {
            "application/vnd.google.colaboratory.intrinsic+json": {
              "type": "string"
            },
            "text/plain": [
              "'For which club Mike Phelan work for '"
            ]
          },
          "metadata": {},
          "execution_count": 16
        }
      ]
    },
    {
      "cell_type": "code",
      "source": [
        "text1= sp(question)\n",
        "results =[]\n",
        "for word in text1.ents:\n",
        "    results.append((word.text,word.label_))\n",
        "displacy.render(sp(str(question)), jupyter=True, style='ent')\n",
        "results"
      ],
      "metadata": {
        "colab": {
          "base_uri": "https://localhost:8080/",
          "height": 69
        },
        "id": "qaHsc2Lqq_5B",
        "outputId": "4a5a6cc2-b89f-498b-cb04-667cc44444c4"
      },
      "execution_count": null,
      "outputs": [
        {
          "output_type": "display_data",
          "data": {
            "text/html": [
              "<span class=\"tex2jax_ignore\"><div class=\"entities\" style=\"line-height: 2.5; direction: ltr\">For which club \n",
              "<mark class=\"entity\" style=\"background: #aa9cfc; padding: 0.45em 0.6em; margin: 0 0.25em; line-height: 1; border-radius: 0.35em;\">\n",
              "    Mike Phelan\n",
              "    <span style=\"font-size: 0.8em; font-weight: bold; line-height: 1; border-radius: 0.35em; text-transform: uppercase; vertical-align: middle; margin-left: 0.5rem\">PERSON</span>\n",
              "</mark>\n",
              " work for </div></span>"
            ],
            "text/plain": [
              "<IPython.core.display.HTML object>"
            ]
          },
          "metadata": {}
        },
        {
          "output_type": "execute_result",
          "data": {
            "text/plain": [
              "[('Mike Phelan', 'PERSON')]"
            ]
          },
          "metadata": {},
          "execution_count": 17
        }
      ]
    },
    {
      "cell_type": "code",
      "source": [
        "sub = 'null' # search in results\n",
        "obj = 'null' # search in results\n",
        "# search in POS tags\n",
        "for tup in results :\n",
        "  if tup[1] in [\"PERSON\" ,\"EVENT\"]:\n",
        "    sub = tup[0]\n",
        "  else :\n",
        "    obj = tup[0]"
      ],
      "metadata": {
        "id": "crbQetqIC424"
      },
      "execution_count": null,
      "outputs": []
    },
    {
      "cell_type": "code",
      "source": [
        "diff = sub.split(\" \") + obj.lower().split(\" \")\n",
        "word_tokens = word_tokenize(question)\n",
        "filtered_sentence = [w for w in word_tokens if not w.lower() in stop_words]\n",
        "spec = [ k for k in filtered_sentence if k not in diff]\n",
        "st = PorterStemmer()\n",
        "ques  = [st.stem(word) for word in spec]\n",
        "\n",
        "rel = \"null\"\n",
        "for k ,v  in words_relations.items():\n",
        "  for ele in ques:\n",
        "    if ele in v:\n",
        "      rel = k\n",
        "rel"
      ],
      "metadata": {
        "colab": {
          "base_uri": "https://localhost:8080/",
          "height": 35
        },
        "id": "QWk56IURC4xQ",
        "outputId": "228f73e1-583c-41bb-ff39-3ed716e90b19"
      },
      "execution_count": null,
      "outputs": [
        {
          "output_type": "execute_result",
          "data": {
            "application/vnd.google.colaboratory.intrinsic+json": {
              "type": "string"
            },
            "text/plain": [
              "'null'"
            ]
          },
          "metadata": {},
          "execution_count": 14
        }
      ]
    },
    {
      "cell_type": "code",
      "source": [
        "query_elements = [sub , rel , obj]\n",
        "query_elements"
      ],
      "metadata": {
        "colab": {
          "base_uri": "https://localhost:8080/"
        },
        "id": "o1HLpo0jrDPY",
        "outputId": "70e90ffa-e782-4fa9-d07a-0a8a4dee99fe"
      },
      "execution_count": null,
      "outputs": [
        {
          "output_type": "execute_result",
          "data": {
            "text/plain": [
              "['FC Barcelona', 'null', 'null']"
            ]
          },
          "metadata": {},
          "execution_count": 15
        }
      ]
    },
    {
      "cell_type": "code",
      "source": [
        ""
      ],
      "metadata": {
        "id": "m5WbQlKn0eja"
      },
      "execution_count": null,
      "outputs": []
    }
  ]
}